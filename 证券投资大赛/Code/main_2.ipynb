{
 "cells": [
  {
   "cell_type": "code",
   "execution_count": null,
   "id": "8500139a-97f9-4ee8-bf54-46cc64d6732b",
   "metadata": {},
   "outputs": [],
   "source": [
    "from sklearn.externals import joblib\n",
    "from features import gen_attrs\n",
    "\n",
    "#初始化账户\n",
    "def initialize(account):\n",
    "    account.security = '000300.SH'\n",
    "    account.isbuy = False\n",
    "\n",
    "def handle_data(account,data):\n",
    "    time = get_last_datetime().strftime(\"%Y%m%d\")\n",
    "    log.info(time)\n",
    "    #获取证券过去20日的收盘价数据\n",
    "    history = get_price(account.security,'20050101',time,'1d',\\\n",
    "                ['open','close','low','high','avg_price','prev_close','volume'],False,'pre')\n",
    "    # history = data.attribute_history(account.security, ['open','close','low','high','avg_price','prev_close','volume'], 34, '1d')   \n",
    "    log.info(history)\n",
    "    # 计算当天属性值\n",
    "    attrs, logreturn = gen_attrs(history, 33)\n",
    "    # state = 1\n",
    "    model = joblib.load('AI/nn.pkl')\n",
    "    scaler = joblib.load('AI/scaler.pkl')\n",
    "    attrs = scaler.transform(attrs)\n",
    "    state = model.predict(attrs)[-1]\n",
    "    if state == 1 and account.isbuy == False:\n",
    "    # if state in [1, 5, 10] and g.is_pos == 0:\n",
    "        # order_value('510300.OF',account.cash)\n",
    "        order_value('159919.OF',account.cash)\n",
    "        # order_value('510050.OF',account.cash)\n",
    "        log.info(\"买入 %s\" % (account.security))\n",
    "        account.isbuy = True\n",
    "    elif state == 0 and account.isbuy == True:\n",
    "    # elif state not in [1, 5, 10] and g.is_pos == 1:\n",
    "        # order_target('510300.OF',0)\n",
    "        order_target('159919.OF',0)\n",
    "        # order_target('510050.OF',0)\n",
    "        log.info(\"卖出 %s\" % (account.security))\n",
    "        account.isbuy = False"
   ]
  }
 ],
 "metadata": {
  "kernelspec": {
   "display_name": "Python 3",
   "language": "python",
   "name": "python3"
  },
  "language_info": {
   "codemirror_mode": {
    "name": "ipython",
    "version": 3
   },
   "file_extension": ".py",
   "mimetype": "text/x-python",
   "name": "python",
   "nbconvert_exporter": "python",
   "pygments_lexer": "ipython3",
   "version": "3.8.8"
  }
 },
 "nbformat": 4,
 "nbformat_minor": 5
}
